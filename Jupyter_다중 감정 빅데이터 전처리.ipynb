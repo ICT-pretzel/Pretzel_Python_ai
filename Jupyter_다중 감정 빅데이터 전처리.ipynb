{
 "cells": [
  {
   "cell_type": "code",
   "execution_count": 1,
   "id": "94ab90e1-afec-40a0-b3dd-99f627fe0ef1",
   "metadata": {},
   "outputs": [],
   "source": [
    "import pandas as pd\n",
    "import json\n",
    "import os"
   ]
  },
  {
   "cell_type": "code",
   "execution_count": 2,
   "id": "89087bef-63cf-4a72-bdd5-904f70066013",
   "metadata": {},
   "outputs": [
    {
     "name": "stdout",
     "output_type": "stream",
     "text": [
      "  emotion                                            content\n",
      "0      분노        잘 생각해 보세요 형사님, 니아가 언제 마이크에 독을 바를 시간이 있었겠어요?\n",
      "1      분노  내 손에 독이 묻어있다면 내 점퍼에도 마찬가지로 묻어 있겠지, 그러니까 독이 묻었다...\n",
      "2      분노    그 옷은 자신의 옷이 아니라, 증거를 없애기 위해 자신의 옷과 바꿔치기한 옷이니까요!\n",
      "3      분노             점퍼에 들어 있는 라이터가, 매니저가 범인이라는 결정적인 증거입니다!\n",
      "4      분노     그는 처음부터 나를 조롱하려고 날 스카우트한 거예요, 그래서 용서할 수 없었다고요!\n"
     ]
    }
   ],
   "source": [
    "# 새로운 DataFrame을 위한 빈 리스트 생성\n",
    "emotion_data1 = []\n",
    "\n",
    "directory_path = 'C:\\\\Users\\\\wngud\\\\Desktop\\\\발화 스타일 훈련셋'\n",
    "\n",
    "# 모든 JSON 파일 읽기\n",
    "for filename in os.listdir(directory_path):\n",
    "    if filename.endswith('.json'):  # JSON 파일만 처리\n",
    "        file_path = os.path.join(directory_path, filename)\n",
    "        try:\n",
    "            with open(file_path, 'r', encoding='utf-8') as file:\n",
    "                data = json.load(file)\n",
    "                df = pd.DataFrame(data)  # 리스트로 감싸서 단일 데이터프레임 생성\n",
    "                \n",
    "                for i in range(len(df.loc[0, \"sentences\"])):\n",
    "                    emotion = df.loc[0, \"sentences\"][i][\"style\"][\"emotion\"]\n",
    "                    origin_text = df.loc[0, \"sentences\"][i][\"origin_text\"]\n",
    "                    emotion_data1.append({\n",
    "                        \"emotion\": emotion,\n",
    "                        \"content\": origin_text\n",
    "                    })\n",
    "        except json.JSONDecodeError as e:\n",
    "            print(\"error\")\n",
    "        except Exception as e:\n",
    "            print(\"error\")\n",
    "\n",
    "# 새로운 DataFrame 생성\n",
    "if emotion_data1:\n",
    "    emotion_data1 = pd.DataFrame(emotion_data1)\n",
    "    print(emotion_data1.head())\n",
    "else:\n",
    "    print(\"error\")"
   ]
  },
  {
   "cell_type": "code",
   "execution_count": 3,
   "id": "df5ba9d2-5422-4607-9403-81c1d112d732",
   "metadata": {},
   "outputs": [
    {
     "name": "stdout",
     "output_type": "stream",
     "text": [
      "  emotion                                            content\n",
      "0      분노                   그러니까 네놈들이 뒷골목의 망신이라는 바로 그 컴북스라고?\n",
      "1      분노  큰일났다, 학교 지각이다, 도대체 엄마는 안 깨우고 뭐한 거야, 어떡해, 교문에 쌤...\n",
      "2      분노  왜 우리가 비밀을 지켜 주려고 애쓰다가  저런 소리까지 들어야 되는 건데, 그냥 말...\n",
      "3      분노                   거짓말, 아무리 내가 바보라도 그런 수법에는 안 넘어가요.\n",
      "4      분노  잠깐, 그 밥에 손 대지 마, 먹지 마, 나가 버려, 나한테 상의도 없이 혼자 그 ...\n"
     ]
    }
   ],
   "source": [
    "# 새로운 DataFrame을 위한 빈 리스트 생성\n",
    "emotion_data2 = []\n",
    "\n",
    "directory_path = 'C:\\\\Users\\\\wngud\\\\Desktop\\\\발화 스타일 검증셋'\n",
    "\n",
    "# 모든 JSON 파일 읽기\n",
    "for filename in os.listdir(directory_path):\n",
    "    if filename.endswith('.json'):  # JSON 파일만 처리\n",
    "        file_path = os.path.join(directory_path, filename)\n",
    "        try:\n",
    "            with open(file_path, 'r', encoding='utf-8') as file:\n",
    "                data = json.load(file)\n",
    "                df = pd.DataFrame(data)  # 리스트로 감싸서 단일 데이터프레임 생성\n",
    "                \n",
    "                for i in range(len(df.loc[0, \"sentences\"])):\n",
    "                    emotion = df.loc[0, \"sentences\"][i][\"style\"][\"emotion\"]\n",
    "                    origin_text = df.loc[0, \"sentences\"][i][\"origin_text\"]\n",
    "                    emotion_data2.append({\n",
    "                        \"emotion\": emotion,\n",
    "                        \"content\": origin_text\n",
    "                    })\n",
    "        except json.JSONDecodeError as e:\n",
    "            print(\"error\")\n",
    "        except Exception as e:\n",
    "            print(\"error\")\n",
    "\n",
    "# 새로운 DataFrame 생성\n",
    "if emotion_data2:\n",
    "    emotion_data2 = pd.DataFrame(emotion_data2)\n",
    "    print(emotion_data2.head())\n",
    "else:\n",
    "    print(\"error\")"
   ]
  },
  {
   "cell_type": "code",
   "execution_count": 4,
   "id": "43545504-0fd5-46e8-b902-c07be3b757b1",
   "metadata": {},
   "outputs": [],
   "source": [
    "excel_file_path = \"C:\\\\Users\\\\wngud\\\\Desktop\\\\감성대화말뭉치_Training.xlsx\"\n",
    "df = pd.read_excel(excel_file_path)"
   ]
  },
  {
   "cell_type": "code",
   "execution_count": 5,
   "id": "d913d355-235e-44de-a4f0-74463494e465",
   "metadata": {},
   "outputs": [],
   "source": [
    "df = df.drop(columns=['Unnamed: 0', '연령',\"성별\",\"상황키워드\",\"신체질환\",\"감정_소분류\",\"시스템문장1\",\"시스템문장2\",\"시스템문장3\"])"
   ]
  },
  {
   "cell_type": "code",
   "execution_count": 6,
   "id": "1797f857-e14b-48e6-83ce-ca444cfa5c88",
   "metadata": {},
   "outputs": [],
   "source": [
    "df.rename(columns={\"감정_대분류\":\"emotion\"}, inplace=True)"
   ]
  },
  {
   "cell_type": "code",
   "execution_count": 7,
   "id": "88bd9bd1-5e28-4ff4-8a86-d33707812874",
   "metadata": {},
   "outputs": [],
   "source": [
    "setiment_data1=df.loc[:,[\"emotion\", \"사람문장1\"]]\n",
    "setiment_data1.rename(columns={\"사람문장1\":\"content\"}, inplace=True)\n",
    "setiment_data1 = setiment_data1.dropna()"
   ]
  },
  {
   "cell_type": "code",
   "execution_count": 8,
   "id": "f7a0a4f3-cd95-458c-9b74-b5780a128464",
   "metadata": {},
   "outputs": [],
   "source": [
    "setiment_data2=df.loc[:,[\"emotion\", \"사람문장2\"]]\n",
    "setiment_data2.rename(columns={\"사람문장2\":\"content\"}, inplace=True)\n",
    "setiment_data2 = setiment_data2.dropna()"
   ]
  },
  {
   "cell_type": "code",
   "execution_count": 9,
   "id": "83249456-6268-4f46-b436-3107df01b224",
   "metadata": {},
   "outputs": [],
   "source": [
    "setiment_data3=df.loc[:,[\"emotion\", \"사람문장3\"]]\n",
    "setiment_data3.rename(columns={\"사람문장3\":\"content\"}, inplace=True)\n",
    "setiment_data3 = setiment_data3.dropna()"
   ]
  },
  {
   "cell_type": "code",
   "execution_count": 10,
   "id": "6b7360e0-65be-4ee8-8f6f-ac7d59c9647a",
   "metadata": {},
   "outputs": [],
   "source": [
    "excel_file_path = \"C:\\\\Users\\\\wngud\\\\Desktop\\\\감성대화말뭉치_Validation.xlsx\"\n",
    "df = pd.read_excel(excel_file_path)"
   ]
  },
  {
   "cell_type": "code",
   "execution_count": 11,
   "id": "2ae865a0-e003-43a0-aa87-16fbde0b446b",
   "metadata": {},
   "outputs": [],
   "source": [
    "df = df.drop(columns=['Unnamed: 0', '연령',\"성별\",\"상황키워드\",\"신체질환\",\"감정_소분류\",\"시스템문장1\",\"시스템문장2\",\"시스템문장3\"])"
   ]
  },
  {
   "cell_type": "code",
   "execution_count": 12,
   "id": "61fd0d55-baf9-464d-a8b5-2f6c3f3689a5",
   "metadata": {},
   "outputs": [],
   "source": [
    "df.rename(columns={\"감정_대분류\":\"emotion\"}, inplace=True)"
   ]
  },
  {
   "cell_type": "code",
   "execution_count": 13,
   "id": "7f75f817-4755-499a-a485-496eb724918a",
   "metadata": {},
   "outputs": [],
   "source": [
    "setiment_data4=df.loc[:,[\"emotion\", \"사람문장1\"]]\n",
    "setiment_data4.rename(columns={\"사람문장1\":\"content\"}, inplace=True)\n",
    "setiment_data4 = setiment_data4.dropna()"
   ]
  },
  {
   "cell_type": "code",
   "execution_count": 14,
   "id": "e526f56c-7a7b-47af-8146-3441e7ffc00e",
   "metadata": {},
   "outputs": [],
   "source": [
    "setiment_data5=df.loc[:,[\"emotion\", \"사람문장2\"]]\n",
    "setiment_data5.rename(columns={\"사람문장2\":\"content\"}, inplace=True)\n",
    "setiment_data5 = setiment_data5.dropna()"
   ]
  },
  {
   "cell_type": "code",
   "execution_count": 15,
   "id": "37c3c75c-60a6-443d-b1e8-a3ade2d07ed6",
   "metadata": {},
   "outputs": [],
   "source": [
    "setiment_data6=df.loc[:,[\"emotion\", \"사람문장3\"]]\n",
    "setiment_data6.rename(columns={\"사람문장3\":\"content\"}, inplace=True)\n",
    "setiment_data6 = setiment_data6.dropna()"
   ]
  },
  {
   "cell_type": "code",
   "execution_count": 16,
   "id": "90aa8cba-98e7-414a-83d4-2c9bd1da53f0",
   "metadata": {},
   "outputs": [
    {
     "data": {
      "text/plain": [
       "emotion\n",
       "무감정    202978\n",
       "기쁨     121860\n",
       "슬픔     119208\n",
       "분노     116578\n",
       "Name: count, dtype: int64"
      ]
     },
     "execution_count": 16,
     "metadata": {},
     "output_type": "execute_result"
    }
   ],
   "source": [
    "emotion_data1.value_counts(\"emotion\")"
   ]
  },
  {
   "cell_type": "code",
   "execution_count": 17,
   "id": "dbadaf39-1fe1-43cb-9fbc-bd1123d4214f",
   "metadata": {},
   "outputs": [
    {
     "data": {
      "text/plain": [
       "emotion\n",
       "무감정    24273\n",
       "분노     12949\n",
       "기쁨     12947\n",
       "슬픔     12849\n",
       "Name: count, dtype: int64"
      ]
     },
     "execution_count": 17,
     "metadata": {},
     "output_type": "execute_result"
    }
   ],
   "source": [
    "emotion_data2.value_counts(\"emotion\")"
   ]
  },
  {
   "cell_type": "code",
   "execution_count": 18,
   "id": "8adff8ea-9749-4df9-ac81-30d0a58608e2",
   "metadata": {},
   "outputs": [],
   "source": [
    "emotion_data = pd.concat([emotion_data1, emotion_data2], axis=0)"
   ]
  },
  {
   "cell_type": "code",
   "execution_count": 19,
   "id": "9f0a847b-9ab8-49b2-8aa3-82d03bd052e4",
   "metadata": {},
   "outputs": [
    {
     "data": {
      "text/plain": [
       "emotion\n",
       "무감정    227251\n",
       "기쁨     134807\n",
       "슬픔     132057\n",
       "분노     129527\n",
       "Name: count, dtype: int64"
      ]
     },
     "execution_count": 19,
     "metadata": {},
     "output_type": "execute_result"
    }
   ],
   "source": [
    "emotion_data[\"emotion\"].value_counts()"
   ]
  },
  {
   "cell_type": "code",
   "execution_count": 20,
   "id": "495808c4-e1f4-4646-b9ed-3294400949a4",
   "metadata": {},
   "outputs": [
    {
     "data": {
      "text/plain": [
       "emotion\n",
       "불안    9320\n",
       "분노    9160\n",
       "상처    9143\n",
       "슬픔    9125\n",
       "당황    8756\n",
       "기쁨    6126\n",
       "Name: count, dtype: int64"
      ]
     },
     "execution_count": 20,
     "metadata": {},
     "output_type": "execute_result"
    }
   ],
   "source": [
    "setiment_data1.value_counts(\"emotion\")"
   ]
  },
  {
   "cell_type": "code",
   "execution_count": 21,
   "id": "9579086b-d04f-4dbe-a7c3-cd7c30e5ec78",
   "metadata": {},
   "outputs": [
    {
     "data": {
      "text/plain": [
       "emotion\n",
       "불안    9320\n",
       "분노    9160\n",
       "상처    9143\n",
       "슬픔    9125\n",
       "당황    8756\n",
       "기쁨    6126\n",
       "Name: count, dtype: int64"
      ]
     },
     "execution_count": 21,
     "metadata": {},
     "output_type": "execute_result"
    }
   ],
   "source": [
    "setiment_data2.value_counts(\"emotion\")"
   ]
  },
  {
   "cell_type": "code",
   "execution_count": 22,
   "id": "ff4d8c90-394a-48b6-9120-b491994f470e",
   "metadata": {},
   "outputs": [
    {
     "data": {
      "text/plain": [
       "emotion\n",
       "분노    7680\n",
       "상처    7671\n",
       "불안    7661\n",
       "슬픔    7564\n",
       "당황    7424\n",
       "기쁨    4695\n",
       "Name: count, dtype: int64"
      ]
     },
     "execution_count": 22,
     "metadata": {},
     "output_type": "execute_result"
    }
   ],
   "source": [
    "setiment_data3.value_counts(\"emotion\")"
   ]
  },
  {
   "cell_type": "code",
   "execution_count": 23,
   "id": "755baae7-fb06-4ebd-9de6-14bd99273d61",
   "metadata": {},
   "outputs": [
    {
     "data": {
      "text/plain": [
       "emotion\n",
       "분노    1257\n",
       "기쁨    1213\n",
       "불안    1113\n",
       "당황    1048\n",
       "상처    1007\n",
       "슬픔    1003\n",
       "Name: count, dtype: int64"
      ]
     },
     "execution_count": 23,
     "metadata": {},
     "output_type": "execute_result"
    }
   ],
   "source": [
    "setiment_data4.value_counts(\"emotion\")"
   ]
  },
  {
   "cell_type": "code",
   "execution_count": 24,
   "id": "17c8ee40-f26a-4926-a9e8-b3529eb137d6",
   "metadata": {},
   "outputs": [
    {
     "data": {
      "text/plain": [
       "emotion\n",
       "분노    1257\n",
       "기쁨    1213\n",
       "불안    1113\n",
       "당황    1048\n",
       "상처    1007\n",
       "슬픔    1003\n",
       "Name: count, dtype: int64"
      ]
     },
     "execution_count": 24,
     "metadata": {},
     "output_type": "execute_result"
    }
   ],
   "source": [
    "setiment_data5.value_counts(\"emotion\")"
   ]
  },
  {
   "cell_type": "code",
   "execution_count": 25,
   "id": "60e9a15c-56e9-4a78-a650-8540ce0d2505",
   "metadata": {},
   "outputs": [
    {
     "data": {
      "text/plain": [
       "emotion\n",
       "분노    1257\n",
       "기쁨    1213\n",
       "불안    1113\n",
       "당황    1048\n",
       "상처    1007\n",
       "슬픔    1003\n",
       "Name: count, dtype: int64"
      ]
     },
     "execution_count": 25,
     "metadata": {},
     "output_type": "execute_result"
    }
   ],
   "source": [
    "setiment_data5.value_counts(\"emotion\")"
   ]
  },
  {
   "cell_type": "code",
   "execution_count": 26,
   "id": "6e90f489-ce0e-418e-8fd3-f4529b4fb661",
   "metadata": {},
   "outputs": [],
   "source": [
    "setiment_data = pd.concat([setiment_data1, setiment_data2,setiment_data3,setiment_data4,setiment_data5,setiment_data6], axis=0)"
   ]
  },
  {
   "cell_type": "code",
   "execution_count": 27,
   "id": "c57875bb-e687-4676-aaab-ea8f425ee08d",
   "metadata": {},
   "outputs": [
    {
     "data": {
      "text/plain": [
       "emotion\n",
       "분노    29410\n",
       "불안    29320\n",
       "상처    28703\n",
       "슬픔    28598\n",
       "당황    27730\n",
       "기쁨    20162\n",
       "Name: count, dtype: int64"
      ]
     },
     "execution_count": 27,
     "metadata": {},
     "output_type": "execute_result"
    }
   ],
   "source": [
    "setiment_data[\"emotion\"].value_counts()"
   ]
  },
  {
   "cell_type": "code",
   "execution_count": 28,
   "id": "92e3b7b0-c5f4-4d55-aaca-e667b2d7d67e",
   "metadata": {},
   "outputs": [
    {
     "data": {
      "text/plain": [
       "emotion\n",
       "무감정    227251\n",
       "기쁨     134807\n",
       "슬픔     132057\n",
       "분노     129527\n",
       "Name: count, dtype: int64"
      ]
     },
     "execution_count": 28,
     "metadata": {},
     "output_type": "execute_result"
    }
   ],
   "source": [
    "emotion_data[\"emotion\"].value_counts()"
   ]
  },
  {
   "cell_type": "code",
   "execution_count": 29,
   "id": "1c726648-50b5-4699-8050-7e46feb668a9",
   "metadata": {},
   "outputs": [
    {
     "data": {
      "text/html": [
       "<div>\n",
       "<style scoped>\n",
       "    .dataframe tbody tr th:only-of-type {\n",
       "        vertical-align: middle;\n",
       "    }\n",
       "\n",
       "    .dataframe tbody tr th {\n",
       "        vertical-align: top;\n",
       "    }\n",
       "\n",
       "    .dataframe thead th {\n",
       "        text-align: right;\n",
       "    }\n",
       "</style>\n",
       "<table border=\"1\" class=\"dataframe\">\n",
       "  <thead>\n",
       "    <tr style=\"text-align: right;\">\n",
       "      <th></th>\n",
       "      <th>emotion</th>\n",
       "      <th>content</th>\n",
       "    </tr>\n",
       "  </thead>\n",
       "  <tbody>\n",
       "    <tr>\n",
       "      <th>25</th>\n",
       "      <td>상처</td>\n",
       "      <td>면접관에게 완전히 속았어. 면접일에 알려준 연봉과 실수령액이 꽤 차이가 나네.</td>\n",
       "    </tr>\n",
       "    <tr>\n",
       "      <th>26</th>\n",
       "      <td>상처</td>\n",
       "      <td>지인이 취업시켜준다면서 사기를 쳤어. 배신감이 들어.</td>\n",
       "    </tr>\n",
       "    <tr>\n",
       "      <th>27</th>\n",
       "      <td>상처</td>\n",
       "      <td>우리 부모님은 나를 버린 거나 다름없어. 내가 진로에 대해 걱정을 할 때 나를 걱정...</td>\n",
       "    </tr>\n",
       "    <tr>\n",
       "      <th>28</th>\n",
       "      <td>상처</td>\n",
       "      <td>계속 취업이 안 되니까 버려진 기분이야.</td>\n",
       "    </tr>\n",
       "    <tr>\n",
       "      <th>42</th>\n",
       "      <td>상처</td>\n",
       "      <td>나 너무 우울해. 회사에서 큰 실수를 했어.</td>\n",
       "    </tr>\n",
       "    <tr>\n",
       "      <th>...</th>\n",
       "      <td>...</td>\n",
       "      <td>...</td>\n",
       "    </tr>\n",
       "    <tr>\n",
       "      <th>6477</th>\n",
       "      <td>상처</td>\n",
       "      <td>내 옆자리에 앉는 동료에게 제일 먼저 말을 걸고 싶어. 항상 배려해준다고 생각했거든.</td>\n",
       "    </tr>\n",
       "    <tr>\n",
       "      <th>6488</th>\n",
       "      <td>상처</td>\n",
       "      <td>막상 취업하고 나면 전공자 비전공자 구분이 없다고 하거든. 근데 취업 문턱을 넘기까...</td>\n",
       "    </tr>\n",
       "    <tr>\n",
       "      <th>6521</th>\n",
       "      <td>상처</td>\n",
       "      <td>다른 집 애들은 엄마가 더 힘들다고 엄마 도와주고 그러는데 자식 키워봐야 소용이 없네!</td>\n",
       "    </tr>\n",
       "    <tr>\n",
       "      <th>6536</th>\n",
       "      <td>상처</td>\n",
       "      <td>인스타그램 같은 사회관계망서비스를 활용하면 시간에 구애받지 않을 것 같아. 서로 사...</td>\n",
       "    </tr>\n",
       "    <tr>\n",
       "      <th>6554</th>\n",
       "      <td>상처</td>\n",
       "      <td>확인할 시간이 없어서 그냥 제출하는 일이 많거든. 실수가 너무 잦아.</td>\n",
       "    </tr>\n",
       "  </tbody>\n",
       "</table>\n",
       "<p>28703 rows × 2 columns</p>\n",
       "</div>"
      ],
      "text/plain": [
       "     emotion                                            content\n",
       "25        상처        면접관에게 완전히 속았어. 면접일에 알려준 연봉과 실수령액이 꽤 차이가 나네.\n",
       "26        상처                      지인이 취업시켜준다면서 사기를 쳤어. 배신감이 들어.\n",
       "27        상처  우리 부모님은 나를 버린 거나 다름없어. 내가 진로에 대해 걱정을 할 때 나를 걱정...\n",
       "28        상처                             계속 취업이 안 되니까 버려진 기분이야.\n",
       "42        상처                           나 너무 우울해. 회사에서 큰 실수를 했어.\n",
       "...      ...                                                ...\n",
       "6477      상처    내 옆자리에 앉는 동료에게 제일 먼저 말을 걸고 싶어. 항상 배려해준다고 생각했거든.\n",
       "6488      상처  막상 취업하고 나면 전공자 비전공자 구분이 없다고 하거든. 근데 취업 문턱을 넘기까...\n",
       "6521      상처   다른 집 애들은 엄마가 더 힘들다고 엄마 도와주고 그러는데 자식 키워봐야 소용이 없네!\n",
       "6536      상처  인스타그램 같은 사회관계망서비스를 활용하면 시간에 구애받지 않을 것 같아. 서로 사...\n",
       "6554      상처             확인할 시간이 없어서 그냥 제출하는 일이 많거든. 실수가 너무 잦아.\n",
       "\n",
       "[28703 rows x 2 columns]"
      ]
     },
     "execution_count": 29,
     "metadata": {},
     "output_type": "execute_result"
    }
   ],
   "source": [
    "setiment_data[setiment_data[\"emotion\"] == \"상처\"]"
   ]
  },
  {
   "cell_type": "code",
   "execution_count": 30,
   "id": "7d8ed0c9-37b9-4a57-9149-5ea608e0a55a",
   "metadata": {},
   "outputs": [],
   "source": [
    "setiment_data.loc[setiment_data['emotion'] == '상처', 'emotion'] = '슬픔'\n",
    "setiment_data.loc[setiment_data['emotion'] == '당황', 'emotion'] = '불안'"
   ]
  },
  {
   "cell_type": "code",
   "execution_count": 31,
   "id": "00ebaedc-7779-400a-95c8-278e3c300fd1",
   "metadata": {},
   "outputs": [
    {
     "data": {
      "text/plain": [
       "emotion\n",
       "슬픔    57301\n",
       "불안    57050\n",
       "분노    29410\n",
       "기쁨    20162\n",
       "Name: count, dtype: int64"
      ]
     },
     "execution_count": 31,
     "metadata": {},
     "output_type": "execute_result"
    }
   ],
   "source": [
    "setiment_data[\"emotion\"].value_counts()"
   ]
  },
  {
   "cell_type": "code",
   "execution_count": 32,
   "id": "094763cf-7f77-4b11-9c25-6c951e543b49",
   "metadata": {},
   "outputs": [],
   "source": [
    "excel_file_path = \"C:\\\\Users\\\\wngud\\\\Desktop\\\\한국어_단발성_대화_데이터셋.xlsx\"\n",
    "korea_data = pd.read_excel(excel_file_path)"
   ]
  },
  {
   "cell_type": "code",
   "execution_count": 33,
   "id": "8b98d755-05dc-46e9-880e-8066b2593e73",
   "metadata": {},
   "outputs": [
    {
     "data": {
      "text/html": [
       "<div>\n",
       "<style scoped>\n",
       "    .dataframe tbody tr th:only-of-type {\n",
       "        vertical-align: middle;\n",
       "    }\n",
       "\n",
       "    .dataframe tbody tr th {\n",
       "        vertical-align: top;\n",
       "    }\n",
       "\n",
       "    .dataframe thead th {\n",
       "        text-align: right;\n",
       "    }\n",
       "</style>\n",
       "<table border=\"1\" class=\"dataframe\">\n",
       "  <thead>\n",
       "    <tr style=\"text-align: right;\">\n",
       "      <th></th>\n",
       "      <th>Sentence</th>\n",
       "      <th>Emotion</th>\n",
       "    </tr>\n",
       "  </thead>\n",
       "  <tbody>\n",
       "    <tr>\n",
       "      <th>0</th>\n",
       "      <td>언니 동생으로 부르는게 맞는 일인가요..??</td>\n",
       "      <td>공포</td>\n",
       "    </tr>\n",
       "    <tr>\n",
       "      <th>1</th>\n",
       "      <td>그냥 내 느낌일뿐겠지?</td>\n",
       "      <td>공포</td>\n",
       "    </tr>\n",
       "    <tr>\n",
       "      <th>2</th>\n",
       "      <td>아직너무초기라서 그런거죠?</td>\n",
       "      <td>공포</td>\n",
       "    </tr>\n",
       "    <tr>\n",
       "      <th>3</th>\n",
       "      <td>유치원버스 사고 낫다던데</td>\n",
       "      <td>공포</td>\n",
       "    </tr>\n",
       "    <tr>\n",
       "      <th>4</th>\n",
       "      <td>근데 원래이런거맞나요</td>\n",
       "      <td>공포</td>\n",
       "    </tr>\n",
       "    <tr>\n",
       "      <th>...</th>\n",
       "      <td>...</td>\n",
       "      <td>...</td>\n",
       "    </tr>\n",
       "    <tr>\n",
       "      <th>38589</th>\n",
       "      <td>솔직히 예보 제대로 못하는 데 세금이라도 아끼게 그냥 폐지해라..</td>\n",
       "      <td>혐오</td>\n",
       "    </tr>\n",
       "    <tr>\n",
       "      <th>38590</th>\n",
       "      <td>재미가 없으니 망하지</td>\n",
       "      <td>혐오</td>\n",
       "    </tr>\n",
       "    <tr>\n",
       "      <th>38591</th>\n",
       "      <td>공장 도시락 비우생적임 아르바이트했는데 화장실가성 손도 않씯고 재료 담고 바닥 떨어...</td>\n",
       "      <td>혐오</td>\n",
       "    </tr>\n",
       "    <tr>\n",
       "      <th>38592</th>\n",
       "      <td>코딱지 만한 나라에서 지들끼리 피터지게 싸우는 센징 클래스 ㅉㅉㅉ</td>\n",
       "      <td>혐오</td>\n",
       "    </tr>\n",
       "    <tr>\n",
       "      <th>38593</th>\n",
       "      <td>와이프도 그렇고 댓글 다 볼텐데 이휘재 좀 하차 하라고 전해주세요</td>\n",
       "      <td>혐오</td>\n",
       "    </tr>\n",
       "  </tbody>\n",
       "</table>\n",
       "<p>38594 rows × 2 columns</p>\n",
       "</div>"
      ],
      "text/plain": [
       "                                                Sentence Emotion\n",
       "0                               언니 동생으로 부르는게 맞는 일인가요..??      공포\n",
       "1                                           그냥 내 느낌일뿐겠지?      공포\n",
       "2                                         아직너무초기라서 그런거죠?      공포\n",
       "3                                          유치원버스 사고 낫다던데      공포\n",
       "4                                            근데 원래이런거맞나요      공포\n",
       "...                                                  ...     ...\n",
       "38589               솔직히 예보 제대로 못하는 데 세금이라도 아끼게 그냥 폐지해라..      혐오\n",
       "38590                                        재미가 없으니 망하지      혐오\n",
       "38591  공장 도시락 비우생적임 아르바이트했는데 화장실가성 손도 않씯고 재료 담고 바닥 떨어...      혐오\n",
       "38592               코딱지 만한 나라에서 지들끼리 피터지게 싸우는 센징 클래스 ㅉㅉㅉ      혐오\n",
       "38593               와이프도 그렇고 댓글 다 볼텐데 이휘재 좀 하차 하라고 전해주세요      혐오\n",
       "\n",
       "[38594 rows x 2 columns]"
      ]
     },
     "execution_count": 33,
     "metadata": {},
     "output_type": "execute_result"
    }
   ],
   "source": [
    "korea_data"
   ]
  },
  {
   "cell_type": "code",
   "execution_count": 34,
   "id": "4f14152e-26c3-4756-8e4e-d00a8266a10f",
   "metadata": {},
   "outputs": [],
   "source": [
    "korea_data.rename(columns={\"Sentence\":\"content\"}, inplace=True)\n",
    "korea_data.rename(columns={\"Emotion\":\"emotion\"}, inplace=True)"
   ]
  },
  {
   "cell_type": "code",
   "execution_count": 35,
   "id": "4d5ace23-d6d6-4bde-9fe2-9eee769a0e5e",
   "metadata": {},
   "outputs": [],
   "source": [
    "korea_data = korea_data.dropna()"
   ]
  },
  {
   "cell_type": "code",
   "execution_count": 36,
   "id": "3ffa18cd-6b15-4ea4-bfe1-2a9f256d90db",
   "metadata": {},
   "outputs": [],
   "source": [
    "korea_data.loc[korea_data['emotion'] == '행복', 'emotion'] = '기쁨'\n",
    "korea_data.loc[korea_data['emotion'] == '중립', 'emotion'] = '무감정'\n",
    "korea_data.loc[korea_data['emotion'] == '공포', 'emotion'] = '불안'\n",
    "korea_data.loc[korea_data['emotion'] == '혐오', 'emotion'] = '분노'\n",
    "korea_data.loc[korea_data['emotion'] == '놀람', 'emotion'] = '불안'"
   ]
  },
  {
   "cell_type": "code",
   "execution_count": 37,
   "id": "dcf567e6-cf64-48e1-bdb4-93bb1827cfb0",
   "metadata": {},
   "outputs": [],
   "source": [
    "total_data = pd.concat([setiment_data,emotion_data,korea_data], axis=0)"
   ]
  },
  {
   "cell_type": "code",
   "execution_count": 38,
   "id": "e8661a68-ff71-4c5a-a2cd-3d529495fc15",
   "metadata": {},
   "outputs": [],
   "source": [
    "total_data['content'] = total_data['content'].str.strip()"
   ]
  },
  {
   "cell_type": "code",
   "execution_count": 39,
   "id": "36ee3ffe-26dc-4c8e-86ae-243c083bc6ab",
   "metadata": {},
   "outputs": [
    {
     "data": {
      "text/plain": [
       "emotion\n",
       "무감정    232081\n",
       "슬픔     194625\n",
       "분노     170031\n",
       "기쁨     161006\n",
       "불안      68416\n",
       "Name: count, dtype: int64"
      ]
     },
     "execution_count": 39,
     "metadata": {},
     "output_type": "execute_result"
    }
   ],
   "source": [
    "total_data[\"emotion\"].value_counts()"
   ]
  },
  {
   "cell_type": "code",
   "execution_count": 40,
   "id": "5caded32-739d-4e8d-8e57-6fd3df9193dc",
   "metadata": {},
   "outputs": [],
   "source": [
    "total_data.loc[total_data['emotion'] == '무감정', 'emotion'] = 0\n",
    "total_data.loc[total_data['emotion'] == '슬픔', 'emotion'] = 1\n",
    "total_data.loc[total_data['emotion'] == '분노', 'emotion'] = 2\n",
    "total_data.loc[total_data['emotion'] == '기쁨', 'emotion'] = 3\n",
    "total_data.loc[total_data['emotion'] == '불안', 'emotion'] = 4"
   ]
  },
  {
   "cell_type": "code",
   "execution_count": 41,
   "id": "2f2b5831-e178-4ef8-a008-2918822add98",
   "metadata": {},
   "outputs": [
    {
     "data": {
      "text/plain": [
       "emotion\n",
       "0    232081\n",
       "1    194625\n",
       "2    170031\n",
       "3    161006\n",
       "4     68416\n",
       "Name: count, dtype: int64"
      ]
     },
     "execution_count": 41,
     "metadata": {},
     "output_type": "execute_result"
    }
   ],
   "source": [
    "total_data[\"emotion\"].value_counts()"
   ]
  },
  {
   "cell_type": "code",
   "execution_count": 42,
   "id": "1828ac94-c25b-47c1-92ad-852d7849711f",
   "metadata": {},
   "outputs": [
    {
     "data": {
      "text/html": [
       "<div>\n",
       "<style scoped>\n",
       "    .dataframe tbody tr th:only-of-type {\n",
       "        vertical-align: middle;\n",
       "    }\n",
       "\n",
       "    .dataframe tbody tr th {\n",
       "        vertical-align: top;\n",
       "    }\n",
       "\n",
       "    .dataframe thead th {\n",
       "        text-align: right;\n",
       "    }\n",
       "</style>\n",
       "<table border=\"1\" class=\"dataframe\">\n",
       "  <thead>\n",
       "    <tr style=\"text-align: right;\">\n",
       "      <th></th>\n",
       "      <th>emotion</th>\n",
       "      <th>content</th>\n",
       "    </tr>\n",
       "  </thead>\n",
       "  <tbody>\n",
       "    <tr>\n",
       "      <th>0</th>\n",
       "      <td>2</td>\n",
       "      <td>일은 왜 해도 해도 끝이 없을까? 화가 난다.</td>\n",
       "    </tr>\n",
       "    <tr>\n",
       "      <th>1</th>\n",
       "      <td>2</td>\n",
       "      <td>이번 달에 또 급여가 깎였어! 물가는 오르는데 월급만 자꾸 깎이니까 너무 화가 나.</td>\n",
       "    </tr>\n",
       "    <tr>\n",
       "      <th>2</th>\n",
       "      <td>2</td>\n",
       "      <td>회사에 신입이 들어왔는데 말투가 거슬려. 그런 애를 매일 봐야 한다고 생각하니까 스...</td>\n",
       "    </tr>\n",
       "    <tr>\n",
       "      <th>3</th>\n",
       "      <td>2</td>\n",
       "      <td>직장에서 막내라는 이유로 나에게만 온갖 심부름을 시켜. 일도 많은 데 정말 분하고 ...</td>\n",
       "    </tr>\n",
       "    <tr>\n",
       "      <th>4</th>\n",
       "      <td>2</td>\n",
       "      <td>얼마 전 입사한 신입사원이 나를 무시하는 것 같아서 너무 화가 나.</td>\n",
       "    </tr>\n",
       "    <tr>\n",
       "      <th>...</th>\n",
       "      <td>...</td>\n",
       "      <td>...</td>\n",
       "    </tr>\n",
       "    <tr>\n",
       "      <th>38589</th>\n",
       "      <td>2</td>\n",
       "      <td>솔직히 예보 제대로 못하는 데 세금이라도 아끼게 그냥 폐지해라..</td>\n",
       "    </tr>\n",
       "    <tr>\n",
       "      <th>38590</th>\n",
       "      <td>2</td>\n",
       "      <td>재미가 없으니 망하지</td>\n",
       "    </tr>\n",
       "    <tr>\n",
       "      <th>38591</th>\n",
       "      <td>2</td>\n",
       "      <td>공장 도시락 비우생적임 아르바이트했는데 화장실가성 손도 않씯고 재료 담고 바닥 떨어...</td>\n",
       "    </tr>\n",
       "    <tr>\n",
       "      <th>38592</th>\n",
       "      <td>2</td>\n",
       "      <td>코딱지 만한 나라에서 지들끼리 피터지게 싸우는 센징 클래스 ㅉㅉㅉ</td>\n",
       "    </tr>\n",
       "    <tr>\n",
       "      <th>38593</th>\n",
       "      <td>2</td>\n",
       "      <td>와이프도 그렇고 댓글 다 볼텐데 이휘재 좀 하차 하라고 전해주세요</td>\n",
       "    </tr>\n",
       "  </tbody>\n",
       "</table>\n",
       "<p>826159 rows × 2 columns</p>\n",
       "</div>"
      ],
      "text/plain": [
       "      emotion                                            content\n",
       "0           2                          일은 왜 해도 해도 끝이 없을까? 화가 난다.\n",
       "1           2     이번 달에 또 급여가 깎였어! 물가는 오르는데 월급만 자꾸 깎이니까 너무 화가 나.\n",
       "2           2  회사에 신입이 들어왔는데 말투가 거슬려. 그런 애를 매일 봐야 한다고 생각하니까 스...\n",
       "3           2  직장에서 막내라는 이유로 나에게만 온갖 심부름을 시켜. 일도 많은 데 정말 분하고 ...\n",
       "4           2              얼마 전 입사한 신입사원이 나를 무시하는 것 같아서 너무 화가 나.\n",
       "...       ...                                                ...\n",
       "38589       2               솔직히 예보 제대로 못하는 데 세금이라도 아끼게 그냥 폐지해라..\n",
       "38590       2                                        재미가 없으니 망하지\n",
       "38591       2  공장 도시락 비우생적임 아르바이트했는데 화장실가성 손도 않씯고 재료 담고 바닥 떨어...\n",
       "38592       2               코딱지 만한 나라에서 지들끼리 피터지게 싸우는 센징 클래스 ㅉㅉㅉ\n",
       "38593       2               와이프도 그렇고 댓글 다 볼텐데 이휘재 좀 하차 하라고 전해주세요\n",
       "\n",
       "[826159 rows x 2 columns]"
      ]
     },
     "execution_count": 42,
     "metadata": {},
     "output_type": "execute_result"
    }
   ],
   "source": [
    "total_data"
   ]
  },
  {
   "cell_type": "code",
   "execution_count": 43,
   "id": "20a82b55-6377-41f7-a85c-600acfb175ec",
   "metadata": {},
   "outputs": [],
   "source": [
    "test = total_data.drop_duplicates(subset=['content'])"
   ]
  },
  {
   "cell_type": "code",
   "execution_count": 44,
   "id": "aab5d7ae-4116-49ea-b5ae-d4406502c83f",
   "metadata": {},
   "outputs": [
    {
     "data": {
      "text/html": [
       "<div>\n",
       "<style scoped>\n",
       "    .dataframe tbody tr th:only-of-type {\n",
       "        vertical-align: middle;\n",
       "    }\n",
       "\n",
       "    .dataframe tbody tr th {\n",
       "        vertical-align: top;\n",
       "    }\n",
       "\n",
       "    .dataframe thead th {\n",
       "        text-align: right;\n",
       "    }\n",
       "</style>\n",
       "<table border=\"1\" class=\"dataframe\">\n",
       "  <thead>\n",
       "    <tr style=\"text-align: right;\">\n",
       "      <th></th>\n",
       "      <th>emotion</th>\n",
       "      <th>content</th>\n",
       "    </tr>\n",
       "  </thead>\n",
       "  <tbody>\n",
       "    <tr>\n",
       "      <th>0</th>\n",
       "      <td>2</td>\n",
       "      <td>일은 왜 해도 해도 끝이 없을까? 화가 난다.</td>\n",
       "    </tr>\n",
       "    <tr>\n",
       "      <th>1</th>\n",
       "      <td>2</td>\n",
       "      <td>이번 달에 또 급여가 깎였어! 물가는 오르는데 월급만 자꾸 깎이니까 너무 화가 나.</td>\n",
       "    </tr>\n",
       "    <tr>\n",
       "      <th>2</th>\n",
       "      <td>2</td>\n",
       "      <td>회사에 신입이 들어왔는데 말투가 거슬려. 그런 애를 매일 봐야 한다고 생각하니까 스...</td>\n",
       "    </tr>\n",
       "    <tr>\n",
       "      <th>3</th>\n",
       "      <td>2</td>\n",
       "      <td>직장에서 막내라는 이유로 나에게만 온갖 심부름을 시켜. 일도 많은 데 정말 분하고 ...</td>\n",
       "    </tr>\n",
       "    <tr>\n",
       "      <th>4</th>\n",
       "      <td>2</td>\n",
       "      <td>얼마 전 입사한 신입사원이 나를 무시하는 것 같아서 너무 화가 나.</td>\n",
       "    </tr>\n",
       "    <tr>\n",
       "      <th>...</th>\n",
       "      <td>...</td>\n",
       "      <td>...</td>\n",
       "    </tr>\n",
       "    <tr>\n",
       "      <th>38589</th>\n",
       "      <td>2</td>\n",
       "      <td>솔직히 예보 제대로 못하는 데 세금이라도 아끼게 그냥 폐지해라..</td>\n",
       "    </tr>\n",
       "    <tr>\n",
       "      <th>38590</th>\n",
       "      <td>2</td>\n",
       "      <td>재미가 없으니 망하지</td>\n",
       "    </tr>\n",
       "    <tr>\n",
       "      <th>38591</th>\n",
       "      <td>2</td>\n",
       "      <td>공장 도시락 비우생적임 아르바이트했는데 화장실가성 손도 않씯고 재료 담고 바닥 떨어...</td>\n",
       "    </tr>\n",
       "    <tr>\n",
       "      <th>38592</th>\n",
       "      <td>2</td>\n",
       "      <td>코딱지 만한 나라에서 지들끼리 피터지게 싸우는 센징 클래스 ㅉㅉㅉ</td>\n",
       "    </tr>\n",
       "    <tr>\n",
       "      <th>38593</th>\n",
       "      <td>2</td>\n",
       "      <td>와이프도 그렇고 댓글 다 볼텐데 이휘재 좀 하차 하라고 전해주세요</td>\n",
       "    </tr>\n",
       "  </tbody>\n",
       "</table>\n",
       "<p>234246 rows × 2 columns</p>\n",
       "</div>"
      ],
      "text/plain": [
       "      emotion                                            content\n",
       "0           2                          일은 왜 해도 해도 끝이 없을까? 화가 난다.\n",
       "1           2     이번 달에 또 급여가 깎였어! 물가는 오르는데 월급만 자꾸 깎이니까 너무 화가 나.\n",
       "2           2  회사에 신입이 들어왔는데 말투가 거슬려. 그런 애를 매일 봐야 한다고 생각하니까 스...\n",
       "3           2  직장에서 막내라는 이유로 나에게만 온갖 심부름을 시켜. 일도 많은 데 정말 분하고 ...\n",
       "4           2              얼마 전 입사한 신입사원이 나를 무시하는 것 같아서 너무 화가 나.\n",
       "...       ...                                                ...\n",
       "38589       2               솔직히 예보 제대로 못하는 데 세금이라도 아끼게 그냥 폐지해라..\n",
       "38590       2                                        재미가 없으니 망하지\n",
       "38591       2  공장 도시락 비우생적임 아르바이트했는데 화장실가성 손도 않씯고 재료 담고 바닥 떨어...\n",
       "38592       2               코딱지 만한 나라에서 지들끼리 피터지게 싸우는 센징 클래스 ㅉㅉㅉ\n",
       "38593       2               와이프도 그렇고 댓글 다 볼텐데 이휘재 좀 하차 하라고 전해주세요\n",
       "\n",
       "[234246 rows x 2 columns]"
      ]
     },
     "execution_count": 44,
     "metadata": {},
     "output_type": "execute_result"
    }
   ],
   "source": [
    "test"
   ]
  },
  {
   "cell_type": "code",
   "execution_count": 45,
   "id": "9497249d-7df7-4503-8222-0f28d650be04",
   "metadata": {},
   "outputs": [
    {
     "data": {
      "text/plain": [
       "emotion\n",
       "1    69337\n",
       "4    66765\n",
       "2    47801\n",
       "3    34299\n",
       "0    16044\n",
       "Name: count, dtype: int64"
      ]
     },
     "execution_count": 45,
     "metadata": {},
     "output_type": "execute_result"
    }
   ],
   "source": [
    "test[\"emotion\"].value_counts()"
   ]
  },
  {
   "cell_type": "code",
   "execution_count": 46,
   "id": "6638458c-c482-4ef3-922c-076a0e076282",
   "metadata": {},
   "outputs": [],
   "source": [
    "total_data.to_excel('total_data.xlsx', index=False)"
   ]
  }
 ],
 "metadata": {
  "kernelspec": {
   "display_name": "Python 3 (ipykernel)",
   "language": "python",
   "name": "python3"
  },
  "language_info": {
   "codemirror_mode": {
    "name": "ipython",
    "version": 3
   },
   "file_extension": ".py",
   "mimetype": "text/x-python",
   "name": "python",
   "nbconvert_exporter": "python",
   "pygments_lexer": "ipython3",
   "version": "3.11.7"
  }
 },
 "nbformat": 4,
 "nbformat_minor": 5
}
